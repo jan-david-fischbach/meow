{
 "cells": [
  {
   "cell_type": "code",
   "execution_count": null,
   "id": "fb07a913",
   "metadata": {
    "id": "GA3-JZHnq4Z2",
    "papermill": {
     "duration": 6.414885,
     "end_time": "2024-06-14T09:06:49.003614",
     "exception": false,
     "start_time": "2024-06-14T09:06:42.588729",
     "status": "completed"
    },
    "tags": []
   },
   "outputs": [],
   "source": [
    "import gdsfactory as gf\n",
    "import jax.numpy as np\n",
    "import matplotlib.pyplot as plt\n",
    "import meow as mw\n",
    "import meow.eme.propagate as prop\n",
    "from tqdm.notebook import tqdm"
   ]
  },
  {
   "cell_type": "code",
   "execution_count": null,
   "id": "7617121d",
   "metadata": {
    "id": "G46Jbojlq2hk",
    "papermill": {
     "duration": 0.018252,
     "end_time": "2024-06-14T09:06:49.033768",
     "exception": false,
     "start_time": "2024-06-14T09:06:49.015516",
     "status": "completed"
    },
    "tags": []
   },
   "outputs": [],
   "source": [
    "def example_extrusions(\n",
    "    t_slab: float = 0.0,\n",
    "    t_soi: float = 0.22,\n",
    "    t_ox: float = 0.0,\n",
    "):\n",
    "    \"\"\"create some simple extrusion rules\n",
    "\n",
    "    Args:\n",
    "        t_slab: the slab thickness\n",
    "        t_soi: the SOI thickness\n",
    "        t_ox: the oxide layer thickness\n",
    "    \"\"\"\n",
    "    extrusions = {\n",
    "        (1, 0): [\n",
    "            mw.GdsExtrusionRule(\n",
    "                material=mw.silicon,\n",
    "                h_min=0.0,\n",
    "                h_max=0.0 + t_soi,\n",
    "                mesh_order=1,\n",
    "            ),\n",
    "        ],\n",
    "    }\n",
    "    return extrusions"
   ]
  },
  {
   "cell_type": "code",
   "execution_count": null,
   "id": "65f8a9ca",
   "metadata": {
    "id": "-D9Elu4Esm31",
    "papermill": {
     "duration": 0.224674,
     "end_time": "2024-06-14T09:06:49.263350",
     "exception": false,
     "start_time": "2024-06-14T09:06:49.038676",
     "status": "completed"
    },
    "tags": []
   },
   "outputs": [],
   "source": [
    "l_taper = 20\n",
    "\n",
    "mmi = gf.components.taper(l_taper, 0.5, 1.5)\n",
    "\n",
    "c = gf.Component()\n",
    "ref = c.add_ref(mmi)\n",
    "ref.xmin = 0\n",
    "mmi = c\n",
    "\n",
    "extrusion_rules = example_extrusions()\n",
    "structs = mw.extrude_gds(mmi, extrusion_rules)\n",
    "\n",
    "# mw.visualize(structs, scale=(1, 1, 0.2))"
   ]
  },
  {
   "cell_type": "code",
   "execution_count": null,
   "id": "aca0083a",
   "metadata": {
    "colab": {
     "base_uri": "https://localhost:8080/",
     "height": 219
    },
    "id": "TEmZy4moxE_z",
    "outputId": "8870fbf1-d6a1-499e-f042-00d94d9d0a6c",
    "papermill": {
     "duration": 0.921042,
     "end_time": "2024-06-14T09:06:50.192502",
     "exception": false,
     "start_time": "2024-06-14T09:06:49.271460",
     "status": "completed"
    },
    "tags": []
   },
   "outputs": [],
   "source": [
    "mmi.plot()"
   ]
  },
  {
   "cell_type": "code",
   "execution_count": null,
   "id": "a300570e-c4b5-41a5-a543-3482a15e81a5",
   "metadata": {
    "papermill": {
     "duration": 44.337131,
     "end_time": "2024-06-14T09:07:34.556404",
     "exception": false,
     "start_time": "2024-06-14T09:06:50.219273",
     "status": "completed"
    },
    "tags": []
   },
   "outputs": [],
   "source": [
    "eps = 1e-2\n",
    "cell_edges = np.linspace(0, l_taper, 3) + eps\n",
    "\n",
    "mesh = mw.Mesh2D(\n",
    "    x=np.linspace(-2, 2, 401),\n",
    "    y=np.linspace(-1, 1, 401),\n",
    ")\n",
    "\n",
    "cells = []\n",
    "for z_min, z_max in zip(cell_edges[:-1], cell_edges[1:]):\n",
    "    cell = mw.Cell(\n",
    "        structures=structs,\n",
    "        mesh=mesh,\n",
    "        z_min=z_min,\n",
    "        z_max=z_max,\n",
    "    )\n",
    "    cells.append(cell)\n",
    "\n",
    "env = mw.Environment(wl=1.55, T=25.0)\n",
    "css = [mw.CrossSection.from_cell(cell=cell, env=env) for cell in cells]\n",
    "\n",
    "for cs in css:\n",
    "    mw.visualize(cs)"
   ]
  },
  {
   "cell_type": "code",
   "execution_count": null,
   "id": "b172bf9f",
   "metadata": {},
   "outputs": [],
   "source": [
    "num_modes = 50"
   ]
  },
  {
   "cell_type": "code",
   "execution_count": null,
   "id": "745c78d8",
   "metadata": {
    "id": "U9FCbn3py6wO",
    "papermill": {
     "duration": 209.284188,
     "end_time": "2024-06-14T09:12:04.101753",
     "exception": false,
     "start_time": "2024-06-14T09:08:34.817565",
     "status": "completed"
    },
    "tags": []
   },
   "outputs": [],
   "source": [
    "modes = [mw.compute_modes(cs, num_modes=num_modes) for cs in tqdm(css)]"
   ]
  },
  {
   "cell_type": "code",
   "execution_count": null,
   "id": "e5a9fe60",
   "metadata": {},
   "outputs": [],
   "source": [
    "modes_tmp = modes"
   ]
  },
  {
   "cell_type": "code",
   "execution_count": null,
   "id": "814e0f2a",
   "metadata": {},
   "outputs": [],
   "source": [
    "modes = modes_tmp"
   ]
  },
  {
   "cell_type": "code",
   "execution_count": null,
   "id": "3a9b463d",
   "metadata": {},
   "outputs": [],
   "source": [
    "modes = [[m for m in cs_modes if m.neff.imag >= 0] for cs_modes in modes]"
   ]
  },
  {
   "cell_type": "code",
   "execution_count": null,
   "id": "199d10a0",
   "metadata": {
    "papermill": {
     "duration": 0.027012,
     "end_time": "2024-06-14T09:12:04.213809",
     "exception": false,
     "start_time": "2024-06-14T09:12:04.186797",
     "status": "completed"
    },
    "tags": []
   },
   "outputs": [],
   "source": [
    "# modes = [[mode for mode in modes_ if mode.neff > 1.45] for modes_ in modes]"
   ]
  },
  {
   "cell_type": "code",
   "execution_count": null,
   "id": "7645645a",
   "metadata": {
    "colab": {
     "base_uri": "https://localhost:8080/",
     "height": 302
    },
    "id": "EpD8GAIizDwx",
    "outputId": "3da20de4-605b-45e7-fcd2-04b9caab72a7",
    "papermill": {
     "duration": 3.854482,
     "end_time": "2024-06-14T09:12:09.352180",
     "exception": true,
     "start_time": "2024-06-14T09:12:05.497698",
     "status": "failed"
    },
    "tags": []
   },
   "outputs": [],
   "source": [
    "import sax\n",
    "\n",
    "S, port_map = mw.compute_s_matrix(modes, cells)\n",
    "s_dict = sax.sdict((S, port_map))\n",
    "np.abs(s_dict[(\"left@0\", \"right@0\")])\n",
    "# print(port_map)\n",
    "# mw.visualize(np.abs(S))"
   ]
  },
  {
   "cell_type": "code",
   "execution_count": null,
   "id": "0d4023b0",
   "metadata": {
    "papermill": {
     "duration": null,
     "end_time": null,
     "exception": null,
     "start_time": null,
     "status": "pending"
    },
    "tags": []
   },
   "outputs": [],
   "source": [
    "z = np.linspace(9, 11, 800)\n",
    "y = 0.2\n",
    "\n",
    "ex_l = np.zeros(len(modes[0]))\n",
    "# ex_l = ex_l.at[0].set(1)\n",
    "ex_r = np.zeros(len(modes[-1]))\n",
    "ex_r = ex_r.at[2].set(0.3)\n",
    "\n",
    "Ex, x = prop.propagate_modes(modes, cells, ex_l, ex_r, y, z)"
   ]
  },
  {
   "cell_type": "code",
   "execution_count": null,
   "id": "556fd01f",
   "metadata": {
    "papermill": {
     "duration": null,
     "end_time": null,
     "exception": null,
     "start_time": null,
     "status": "pending"
    },
    "tags": []
   },
   "outputs": [],
   "source": [
    "plt.figure(figsize=(10, 3))\n",
    "X, Y = np.meshgrid(z, x)\n",
    "lim = np.max(np.abs(Ex))\n",
    "plt.pcolormesh(X, Y, Ex.T.real, shading=\"nearest\", vmin=-lim, vmax=lim, cmap=\"RdBu\")\n",
    "# plt.gca().set_aspect(True)\n",
    "plt.colorbar()"
   ]
  },
  {
   "cell_type": "code",
   "execution_count": null,
   "id": "d4e25d19",
   "metadata": {
    "papermill": {
     "duration": null,
     "end_time": null,
     "exception": null,
     "start_time": null,
     "status": "pending"
    },
    "tags": []
   },
   "outputs": [],
   "source": [
    "plt.figure(figsize=(10, 3))\n",
    "X, Y = np.meshgrid(z, x)\n",
    "plt.pcolormesh(\n",
    "    X,\n",
    "    Y,\n",
    "    np.abs(Ex.T),\n",
    "    shading=\"nearest\",\n",
    "    cmap=\"magma\",\n",
    "    vmax=np.quantile(np.abs(Ex), 0.99),\n",
    ")\n",
    "plt.colorbar()"
   ]
  },
  {
   "cell_type": "code",
   "execution_count": null,
   "id": "59b519a0",
   "metadata": {},
   "outputs": [],
   "source": []
  },
  {
   "cell_type": "code",
   "execution_count": null,
   "id": "84a66475",
   "metadata": {},
   "outputs": [],
   "source": []
  }
 ],
 "metadata": {
  "colab": {
   "provenance": []
  },
  "kernelspec": {
   "display_name": "phd",
   "language": "python",
   "name": "python3"
  },
  "language_info": {
   "codemirror_mode": {
    "name": "ipython",
    "version": 3
   },
   "file_extension": ".py",
   "mimetype": "text/x-python",
   "name": "python",
   "nbconvert_exporter": "python",
   "pygments_lexer": "ipython3",
   "version": "3.11.9"
  },
  "papermill": {
   "default_parameters": {},
   "duration": 329.938199,
   "end_time": "2024-06-14T09:12:10.796860",
   "environment_variables": {},
   "exception": true,
   "input_path": "./tests/nbs/mmi.ipynb",
   "output_path": "./tests/nbs/mmi.ipynb",
   "parameters": {},
   "start_time": "2024-06-14T09:06:40.858661",
   "version": "2.4.0"
  }
 },
 "nbformat": 4,
 "nbformat_minor": 5
}
