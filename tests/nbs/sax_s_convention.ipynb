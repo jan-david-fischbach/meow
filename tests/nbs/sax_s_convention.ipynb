{
 "cells": [
  {
   "cell_type": "code",
   "execution_count": null,
   "metadata": {},
   "outputs": [],
   "source": [
    "import sax\n",
    "import meow as mw\n",
    "import jax.numpy as jnp"
   ]
  },
  {
   "cell_type": "code",
   "execution_count": null,
   "metadata": {},
   "outputs": [],
   "source": [
    "def fresnel_mirror_ij(ni=1.0, nj=1.0, theta_0=0, pol=\"s\"):\n",
    "    \"\"\"Model a (fresnel) interface between two refractive indices\n",
    "\n",
    "    Args:\n",
    "        ni: refractive index of the initial medium\n",
    "        nj: refractive index of the final\n",
    "        theta: angle of incidence measured from normal in vacuum\n",
    "        pol: \"s\" or \"p\" polarization\n",
    "    \"\"\"\n",
    "\n",
    "    # print(f\"{ni=}; {nj=}\")\n",
    "    theta_i = jnp.arcsin(jnp.sin(theta_0) / ni)\n",
    "    theta_j = jnp.arcsin(jnp.sin(theta_0) / nj)  # need to investigate\n",
    "    cos_i = jnp.cos(theta_i)\n",
    "    cos_j = jnp.cos(theta_j)\n",
    "\n",
    "    if pol == \"s\":\n",
    "        r_fresnel_ij = (ni * cos_i - nj * cos_j) / (ni * cos_i + nj * cos_j)\n",
    "        # i->i reflection\n",
    "        t_fresnel_ij = 2 * ni * cos_i / (ni * cos_i + nj * cos_j)  # i->j transmission\n",
    "        t_fresnel_ji = 2 * nj * cos_j / (ni * cos_i + nj * cos_j)\n",
    "\n",
    "    elif pol == \"p\":\n",
    "        r_fresnel_ij = (nj * cos_i - ni * cos_j) / (nj * cos_i + ni * cos_j)\n",
    "        # i->i reflection\n",
    "        t_fresnel_ij = 2 * ni * cos_i / (nj * cos_i + ni * cos_j)  # i->j transmission\n",
    "        t_fresnel_ji = 2 * nj * cos_j / (nj * cos_i + ni * cos_j)\n",
    "\n",
    "    else:\n",
    "        raise ValueError(f\"polarization should be either 's' or 'p'\")\n",
    "\n",
    "    r_fresnel_ji = -r_fresnel_ij  # j -> i reflection\n",
    "\n",
    "    sdict = {\n",
    "        (\"left\", \"left\"): r_fresnel_ij,\n",
    "        (\"left\", \"right\"): t_fresnel_ij,\n",
    "        (\"right\", \"left\"): t_fresnel_ji,\n",
    "        (\"right\", \"right\"): r_fresnel_ji,\n",
    "    }\n",
    "    return sdict"
   ]
  },
  {
   "cell_type": "code",
   "execution_count": null,
   "metadata": {},
   "outputs": [],
   "source": [
    "s = fresnel_mirror_ij(1, 2)"
   ]
  },
  {
   "cell_type": "code",
   "execution_count": null,
   "metadata": {},
   "outputs": [],
   "source": [
    "s"
   ]
  },
  {
   "cell_type": "code",
   "execution_count": null,
   "metadata": {},
   "outputs": [],
   "source": [
    "sax.sdense(s)"
   ]
  },
  {
   "cell_type": "code",
   "execution_count": null,
   "metadata": {},
   "outputs": [],
   "source": [
    "tester = {\n",
    "    (\"1\", \"1\"): 11,\n",
    "    (\"1\", \"2\"): 21,\n",
    "    (\"2\", \"1\"): 12,\n",
    "    (\"2\", \"2\"): 22,\n",
    "}"
   ]
  },
  {
   "cell_type": "code",
   "execution_count": null,
   "metadata": {},
   "outputs": [],
   "source": [
    "S, pm = sax.sdense(tester)\n",
    "jnp.abs(S)"
   ]
  },
  {
   "cell_type": "code",
   "execution_count": null,
   "metadata": {},
   "outputs": [],
   "source": [
    "S_scoo = sax.scoo(tester)"
   ]
  },
  {
   "cell_type": "code",
   "execution_count": null,
   "metadata": {},
   "outputs": [],
   "source": [
    "S_scoo"
   ]
  },
  {
   "cell_type": "code",
   "execution_count": null,
   "metadata": {},
   "outputs": [],
   "source": [
    "sax.scoo(sax.sdense(S_scoo))"
   ]
  },
  {
   "cell_type": "code",
   "execution_count": null,
   "metadata": {},
   "outputs": [],
   "source": []
  }
 ],
 "metadata": {
  "kernelspec": {
   "display_name": "ibm",
   "language": "python",
   "name": "python3"
  },
  "language_info": {
   "codemirror_mode": {
    "name": "ipython",
    "version": 3
   },
   "file_extension": ".py",
   "mimetype": "text/x-python",
   "name": "python",
   "nbconvert_exporter": "python",
   "pygments_lexer": "ipython3",
   "version": "3.11.9"
  }
 },
 "nbformat": 4,
 "nbformat_minor": 2
}
